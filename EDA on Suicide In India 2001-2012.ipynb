{
 "cells": [
  {
   "cell_type": "markdown",
   "id": "92cc7fea",
   "metadata": {},
   "source": [
    "# EDA on Suicide rates in India 2001-2012\n",
    "\n",
    "        Exploratory Data Analysis (EDA) on suicide rates in India reveals patterns and trends in demographic factors, socio-economic conditions, and regional variations, aiding in understanding and addressing the complex dynamics influencing suicide occurrences in the country.\n",
    "        \n",
    "\n",
    "## Problem Statement\n",
    "\n",
    "       The escalating suicide rates in India pose a critical public health concern, necessitating a comprehensive understanding of the underlying factors. The problem statement revolves around identifying and analyzing the intricate interplay of socio-economic disparities, mental health issues, and cultural influences that contribute to the rising incidence of suicides. Addressing this multifaceted problem requires targeted interventions and policy measures to mitigate risk factors and enhance mental health support systems across diverse segments of the population.\n"
   ]
  },
  {
   "cell_type": "markdown",
   "id": "09aa507f",
   "metadata": {},
   "source": [
    "# About the Dataset:\n",
    "<h3>Context</h3>\n",
    "\n",
    "This data set contains yearly suicide detail of all the states/u.t of India by various parameters from 2001 to 2012.\n",
    "\n",
    "<h3>Content</h3>\n",
    "\n",
    "Time Period: 2001 - 2012 <br>\n",
    "Granularity: Yearly <br>\n",
    "Location: States and U.T's of India\n",
    "\n",
    "<h3>Parameters</h3>\n",
    "\n",
    "    a) Suicide causes\n",
    "    b) Education status\n",
    "    c) By means adopted\n",
    "    d) Professional profile\n",
    "    e) Social status\n",
    "\n",
    "<h3>Acknowledgements</h3>\n",
    "\n",
    "National Crime Records Bureau (NCRB), Govt of India has shared this dataset under Govt. Open Data License - India. <br>\n",
    "Source Link: (https://data.gov.in/)"
   ]
  },
  {
   "cell_type": "markdown",
   "id": "6f119fc9",
   "metadata": {},
   "source": [
    "# "
   ]
  },
  {
   "cell_type": "markdown",
   "id": "9810bb40",
   "metadata": {},
   "source": [
    "## Import libraries"
   ]
  },
  {
   "cell_type": "code",
   "execution_count": 1,
   "id": "c19f414a",
   "metadata": {},
   "outputs": [],
   "source": [
    "import warnings\n",
    "warnings.filterwarnings(\"ignore\")"
   ]
  },
  {
   "cell_type": "code",
   "execution_count": 2,
   "id": "c407ddb9",
   "metadata": {},
   "outputs": [],
   "source": [
    "import numpy as np\n",
    "import pandas as pd\n",
    "import matplotlib.pyplot as plt\n",
    "import seaborn as sns\n",
    "%matplotlib inline"
   ]
  },
  {
   "cell_type": "markdown",
   "id": "822e0f29",
   "metadata": {},
   "source": [
    "#"
   ]
  },
  {
   "cell_type": "markdown",
   "id": "169d5754",
   "metadata": {},
   "source": [
    "## Read dataset from MS Excel file(.csv format)"
   ]
  },
  {
   "cell_type": "code",
   "execution_count": 3,
   "id": "dd4e3653",
   "metadata": {
    "scrolled": true
   },
   "outputs": [
    {
     "data": {
      "text/html": [
       "<div>\n",
       "<style scoped>\n",
       "    .dataframe tbody tr th:only-of-type {\n",
       "        vertical-align: middle;\n",
       "    }\n",
       "\n",
       "    .dataframe tbody tr th {\n",
       "        vertical-align: top;\n",
       "    }\n",
       "\n",
       "    .dataframe thead th {\n",
       "        text-align: right;\n",
       "    }\n",
       "</style>\n",
       "<table border=\"1\" class=\"dataframe\">\n",
       "  <thead>\n",
       "    <tr style=\"text-align: right;\">\n",
       "      <th></th>\n",
       "      <th>State</th>\n",
       "      <th>Year</th>\n",
       "      <th>Type_code</th>\n",
       "      <th>Type</th>\n",
       "      <th>Gender</th>\n",
       "      <th>Age_group</th>\n",
       "      <th>Total</th>\n",
       "    </tr>\n",
       "  </thead>\n",
       "  <tbody>\n",
       "    <tr>\n",
       "      <th>0</th>\n",
       "      <td>A &amp; N Islands</td>\n",
       "      <td>2001</td>\n",
       "      <td>Causes</td>\n",
       "      <td>Illness (Aids/STD)</td>\n",
       "      <td>Female</td>\n",
       "      <td>0-14</td>\n",
       "      <td>0</td>\n",
       "    </tr>\n",
       "    <tr>\n",
       "      <th>1</th>\n",
       "      <td>A &amp; N Islands</td>\n",
       "      <td>2001</td>\n",
       "      <td>Causes</td>\n",
       "      <td>Bankruptcy or Sudden change in Economic</td>\n",
       "      <td>Female</td>\n",
       "      <td>0-14</td>\n",
       "      <td>0</td>\n",
       "    </tr>\n",
       "    <tr>\n",
       "      <th>2</th>\n",
       "      <td>A &amp; N Islands</td>\n",
       "      <td>2001</td>\n",
       "      <td>Causes</td>\n",
       "      <td>Cancellation/Non-Settlement of Marriage</td>\n",
       "      <td>Female</td>\n",
       "      <td>0-14</td>\n",
       "      <td>0</td>\n",
       "    </tr>\n",
       "    <tr>\n",
       "      <th>3</th>\n",
       "      <td>A &amp; N Islands</td>\n",
       "      <td>2001</td>\n",
       "      <td>Causes</td>\n",
       "      <td>Physical Abuse (Rape/Incest Etc.)</td>\n",
       "      <td>Female</td>\n",
       "      <td>0-14</td>\n",
       "      <td>0</td>\n",
       "    </tr>\n",
       "    <tr>\n",
       "      <th>4</th>\n",
       "      <td>A &amp; N Islands</td>\n",
       "      <td>2001</td>\n",
       "      <td>Causes</td>\n",
       "      <td>Dowry Dispute</td>\n",
       "      <td>Female</td>\n",
       "      <td>0-14</td>\n",
       "      <td>0</td>\n",
       "    </tr>\n",
       "  </tbody>\n",
       "</table>\n",
       "</div>"
      ],
      "text/plain": [
       "           State  Year Type_code                                     Type  \\\n",
       "0  A & N Islands  2001    Causes                       Illness (Aids/STD)   \n",
       "1  A & N Islands  2001    Causes  Bankruptcy or Sudden change in Economic   \n",
       "2  A & N Islands  2001    Causes  Cancellation/Non-Settlement of Marriage   \n",
       "3  A & N Islands  2001    Causes        Physical Abuse (Rape/Incest Etc.)   \n",
       "4  A & N Islands  2001    Causes                            Dowry Dispute   \n",
       "\n",
       "   Gender Age_group  Total  \n",
       "0  Female      0-14      0  \n",
       "1  Female      0-14      0  \n",
       "2  Female      0-14      0  \n",
       "3  Female      0-14      0  \n",
       "4  Female      0-14      0  "
      ]
     },
     "execution_count": 3,
     "metadata": {},
     "output_type": "execute_result"
    }
   ],
   "source": [
    "df = pd.read_csv('Suicides in India 2001-2012.csv')\n",
    "df.head()"
   ]
  },
  {
   "cell_type": "markdown",
   "id": "d9ddc378",
   "metadata": {},
   "source": [
    "## Understanding the dataframe"
   ]
  },
  {
   "cell_type": "code",
   "execution_count": 4,
   "id": "13e9ce7d",
   "metadata": {},
   "outputs": [
    {
     "name": "stdout",
     "output_type": "stream",
     "text": [
      "Number of rows: 237519\n",
      "Number of columns: 7\n"
     ]
    }
   ],
   "source": [
    "print('Number of rows:',df.shape[0])\n",
    "print('Number of columns:', df.shape[1])"
   ]
  },
  {
   "cell_type": "code",
   "execution_count": 5,
   "id": "411a7b5c",
   "metadata": {},
   "outputs": [
    {
     "name": "stdout",
     "output_type": "stream",
     "text": [
      "<class 'pandas.core.frame.DataFrame'>\n",
      "RangeIndex: 237519 entries, 0 to 237518\n",
      "Data columns (total 7 columns):\n",
      " #   Column     Non-Null Count   Dtype \n",
      "---  ------     --------------   ----- \n",
      " 0   State      237519 non-null  object\n",
      " 1   Year       237519 non-null  int64 \n",
      " 2   Type_code  237519 non-null  object\n",
      " 3   Type       237519 non-null  object\n",
      " 4   Gender     237519 non-null  object\n",
      " 5   Age_group  237519 non-null  object\n",
      " 6   Total      237519 non-null  int64 \n",
      "dtypes: int64(2), object(5)\n",
      "memory usage: 12.7+ MB\n"
     ]
    }
   ],
   "source": [
    "df.info()"
   ]
  },
  {
   "cell_type": "code",
   "execution_count": 6,
   "id": "15d5119c",
   "metadata": {},
   "outputs": [
    {
     "data": {
      "text/plain": [
       "State        0\n",
       "Year         0\n",
       "Type_code    0\n",
       "Type         0\n",
       "Gender       0\n",
       "Age_group    0\n",
       "Total        0\n",
       "dtype: int64"
      ]
     },
     "execution_count": 6,
     "metadata": {},
     "output_type": "execute_result"
    }
   ],
   "source": [
    "df.isnull().sum()"
   ]
  },
  {
   "cell_type": "markdown",
   "id": "456798b4",
   "metadata": {},
   "source": [
    "<font color=\"Green\"><b><font size=\"+0.5\">Observation : There are no null values in the dataframe. Hence we can start data processing.</font></b></font>"
   ]
  },
  {
   "cell_type": "markdown",
   "id": "fba7c608",
   "metadata": {},
   "source": [
    "###"
   ]
  },
  {
   "cell_type": "markdown",
   "id": "ca73f85c",
   "metadata": {},
   "source": [
    "## Data Pre-processing: Analysing each column of the dataframe"
   ]
  },
  {
   "cell_type": "code",
   "execution_count": 7,
   "id": "10380c3c",
   "metadata": {},
   "outputs": [
    {
     "data": {
      "text/plain": [
       "Index(['State', 'Year', 'Type_code', 'Type', 'Gender', 'Age_group', 'Total'], dtype='object')"
      ]
     },
     "execution_count": 7,
     "metadata": {},
     "output_type": "execute_result"
    }
   ],
   "source": [
    "df.columns"
   ]
  },
  {
   "cell_type": "code",
   "execution_count": 8,
   "id": "0ae1b1c9",
   "metadata": {},
   "outputs": [
    {
     "data": {
      "text/plain": [
       "Madhya Pradesh       6792\n",
       "Maharashtra          6792\n",
       "Karnataka            6792\n",
       "Odisha               6791\n",
       "Andhra Pradesh       6791\n",
       "Rajasthan            6791\n",
       "Bihar                6790\n",
       "Chhattisgarh         6790\n",
       "Haryana              6790\n",
       "Kerala               6788\n",
       "Uttar Pradesh        6787\n",
       "Assam                6786\n",
       "Tamil Nadu           6786\n",
       "Gujarat              6786\n",
       "Jharkhand            6785\n",
       "Tripura              6782\n",
       "Delhi (Ut)           6782\n",
       "West Bengal          6780\n",
       "Punjab               6779\n",
       "Himachal Pradesh     6774\n",
       "Jammu & Kashmir      6761\n",
       "Goa                  6759\n",
       "Uttarakhand          6758\n",
       "Sikkim               6742\n",
       "Mizoram              6737\n",
       "Meghalaya            6733\n",
       "Puducherry           6730\n",
       "Chandigarh           6717\n",
       "A & N Islands        6712\n",
       "Daman & Diu          6710\n",
       "Arunachal Pradesh    6707\n",
       "Nagaland             6705\n",
       "D & N Haveli         6704\n",
       "Manipur              6700\n",
       "Lakshadweep          6674\n",
       "Total (All India)     312\n",
       "Total (States)        312\n",
       "Total (Uts)           312\n",
       "Name: State, dtype: int64"
      ]
     },
     "execution_count": 8,
     "metadata": {},
     "output_type": "execute_result"
    }
   ],
   "source": [
    "df['State'].value_counts()"
   ]
  },
  {
   "cell_type": "markdown",
   "id": "d022a3fc",
   "metadata": {},
   "source": [
    "<font size=\"+0.5\"  color=\"Green\">\n",
    "    \n",
    "- **As we need state wise data Total summation values are not needed for analysis.** \n",
    "\n",
    "- **Hence drop rows with values conataining: 'Total (All India)','Total (States)','Total (Uts)'.**\n"
   ]
  },
  {
   "cell_type": "code",
   "execution_count": 9,
   "id": "5a002fd1",
   "metadata": {},
   "outputs": [],
   "source": [
    "df= df[df['State'].isin(['Total (All India)','Total (States)','Total (Uts)']) == False]"
   ]
  },
  {
   "cell_type": "code",
   "execution_count": 10,
   "id": "8ffce017",
   "metadata": {},
   "outputs": [
    {
     "data": {
      "text/plain": [
       "Karnataka            6792\n",
       "Madhya Pradesh       6792\n",
       "Maharashtra          6792\n",
       "Andhra Pradesh       6791\n",
       "Odisha               6791\n",
       "Rajasthan            6791\n",
       "Chhattisgarh         6790\n",
       "Bihar                6790\n",
       "Haryana              6790\n",
       "Kerala               6788\n",
       "Uttar Pradesh        6787\n",
       "Tamil Nadu           6786\n",
       "Gujarat              6786\n",
       "Assam                6786\n",
       "Jharkhand            6785\n",
       "Tripura              6782\n",
       "Delhi (Ut)           6782\n",
       "West Bengal          6780\n",
       "Punjab               6779\n",
       "Himachal Pradesh     6774\n",
       "Jammu & Kashmir      6761\n",
       "Goa                  6759\n",
       "Uttarakhand          6758\n",
       "Sikkim               6742\n",
       "Mizoram              6737\n",
       "Meghalaya            6733\n",
       "Puducherry           6730\n",
       "Chandigarh           6717\n",
       "A & N Islands        6712\n",
       "Daman & Diu          6710\n",
       "Arunachal Pradesh    6707\n",
       "Nagaland             6705\n",
       "D & N Haveli         6704\n",
       "Manipur              6700\n",
       "Lakshadweep          6674\n",
       "Name: State, dtype: int64"
      ]
     },
     "execution_count": 10,
     "metadata": {},
     "output_type": "execute_result"
    }
   ],
   "source": [
    "df['State'].value_counts()"
   ]
  },
  {
   "cell_type": "code",
   "execution_count": 11,
   "id": "c662d869",
   "metadata": {},
   "outputs": [
    {
     "data": {
      "text/plain": [
       "2011    19728\n",
       "2005    19725\n",
       "2012    19721\n",
       "2001    19719\n",
       "2008    19719\n",
       "2007    19716\n",
       "2010    19714\n",
       "2002    19712\n",
       "2003    19708\n",
       "2006    19708\n",
       "2009    19708\n",
       "2004    19705\n",
       "Name: Year, dtype: int64"
      ]
     },
     "execution_count": 11,
     "metadata": {},
     "output_type": "execute_result"
    }
   ],
   "source": [
    "df['Year'].value_counts()"
   ]
  },
  {
   "cell_type": "code",
   "execution_count": 12,
   "id": "cac48764",
   "metadata": {},
   "outputs": [
    {
     "data": {
      "text/plain": [
       "Causes                  109200\n",
       "Means_adopted            67200\n",
       "Professional_Profile     49263\n",
       "Education_Status          6720\n",
       "Social_Status             4200\n",
       "Name: Type_code, dtype: int64"
      ]
     },
     "execution_count": 12,
     "metadata": {},
     "output_type": "execute_result"
    }
   ],
   "source": [
    "df['Type_code'].value_counts()"
   ]
  },
  {
   "cell_type": "code",
   "execution_count": 13,
   "id": "30569305",
   "metadata": {},
   "outputs": [
    {
     "data": {
      "text/plain": [
       "Others (Please Specify)                           7263\n",
       "Illness (Aids/STD)                                4200\n",
       "By Drowning                                       4200\n",
       "By touching electric wires                        4200\n",
       "By Machine                                        4200\n",
       "                                                  ... \n",
       "Graduate                                           840\n",
       "Middle                                             840\n",
       "Bankruptcy or Sudden change in Economic Status     350\n",
       "Not having Children (Barrenness/Impotency          350\n",
       "By Other means                                     350\n",
       "Name: Type, Length: 69, dtype: int64"
      ]
     },
     "execution_count": 13,
     "metadata": {},
     "output_type": "execute_result"
    }
   ],
   "source": [
    "df['Type'].value_counts()"
   ]
  },
  {
   "cell_type": "code",
   "execution_count": 14,
   "id": "35237a46",
   "metadata": {},
   "outputs": [
    {
     "data": {
      "text/plain": [
       "Male      118411\n",
       "Female    118172\n",
       "Name: Gender, dtype: int64"
      ]
     },
     "execution_count": 14,
     "metadata": {},
     "output_type": "execute_result"
    }
   ],
   "source": [
    "df['Gender'].value_counts()"
   ]
  },
  {
   "cell_type": "code",
   "execution_count": 15,
   "id": "8968bc10",
   "metadata": {},
   "outputs": [
    {
     "data": {
      "text/plain": [
       "15-29     45223\n",
       "30-44     45193\n",
       "45-59     45146\n",
       "60+       45074\n",
       "0-14      45027\n",
       "0-100+    10920\n",
       "Name: Age_group, dtype: int64"
      ]
     },
     "execution_count": 15,
     "metadata": {},
     "output_type": "execute_result"
    }
   ],
   "source": [
    "df['Age_group'].value_counts()"
   ]
  },
  {
   "cell_type": "code",
   "execution_count": 16,
   "id": "3f39e17c",
   "metadata": {},
   "outputs": [
    {
     "data": {
      "text/plain": [
       "count    236583.000000\n",
       "mean         30.636225\n",
       "std         180.272636\n",
       "min           0.000000\n",
       "25%           0.000000\n",
       "50%           0.000000\n",
       "75%           6.000000\n",
       "max        8756.000000\n",
       "Name: Total, dtype: float64"
      ]
     },
     "execution_count": 16,
     "metadata": {},
     "output_type": "execute_result"
    }
   ],
   "source": [
    "df['Total'].describe()"
   ]
  },
  {
   "cell_type": "code",
   "execution_count": 17,
   "id": "feb6fedc",
   "metadata": {},
   "outputs": [
    {
     "data": {
      "text/plain": [
       "(135473, 7)"
      ]
     },
     "execution_count": 17,
     "metadata": {},
     "output_type": "execute_result"
    }
   ],
   "source": [
    "df[df['Total'] == 0].shape"
   ]
  },
  {
   "cell_type": "markdown",
   "id": "7c44dfc4",
   "metadata": {},
   "source": [
    "<font size=\"+0.5\"  color=\"Green\">\n",
    "    \n",
    "- **There are more than 1,35,000 rows contains 0 total deaths which is not useful for analysis.**\n",
    "- **Dropping rows with 0 entries in total column**\n",
    "- **df1 dataframe contains entries without 0 deaths**\n"
   ]
  },
  {
   "cell_type": "code",
   "execution_count": 18,
   "id": "4ef38660",
   "metadata": {},
   "outputs": [],
   "source": [
    "#df1 dataframe does not contains 0 death entries in the dataframe \n",
    "\n",
    "df1 = df[df['Total'] != 0]"
   ]
  },
  {
   "cell_type": "code",
   "execution_count": 19,
   "id": "e28ecc20",
   "metadata": {},
   "outputs": [
    {
     "data": {
      "text/plain": [
       "(101110, 7)"
      ]
     },
     "execution_count": 19,
     "metadata": {},
     "output_type": "execute_result"
    }
   ],
   "source": [
    "df1.shape"
   ]
  },
  {
   "cell_type": "code",
   "execution_count": 20,
   "id": "5a1c03bf",
   "metadata": {},
   "outputs": [
    {
     "data": {
      "text/html": [
       "<div>\n",
       "<style scoped>\n",
       "    .dataframe tbody tr th:only-of-type {\n",
       "        vertical-align: middle;\n",
       "    }\n",
       "\n",
       "    .dataframe tbody tr th {\n",
       "        vertical-align: top;\n",
       "    }\n",
       "\n",
       "    .dataframe thead th {\n",
       "        text-align: right;\n",
       "    }\n",
       "</style>\n",
       "<table border=\"1\" class=\"dataframe\">\n",
       "  <thead>\n",
       "    <tr style=\"text-align: right;\">\n",
       "      <th></th>\n",
       "      <th>State</th>\n",
       "      <th>Year</th>\n",
       "      <th>Type_code</th>\n",
       "      <th>Type</th>\n",
       "      <th>Gender</th>\n",
       "      <th>Age_group</th>\n",
       "      <th>Total</th>\n",
       "    </tr>\n",
       "  </thead>\n",
       "  <tbody>\n",
       "    <tr>\n",
       "      <th>95083</th>\n",
       "      <td>Jammu &amp; Kashmir</td>\n",
       "      <td>2001</td>\n",
       "      <td>Professional_Profile</td>\n",
       "      <td>Farming/Agriculture Activity</td>\n",
       "      <td>Female</td>\n",
       "      <td>30-44</td>\n",
       "      <td>1</td>\n",
       "    </tr>\n",
       "    <tr>\n",
       "      <th>192537</th>\n",
       "      <td>Rajasthan</td>\n",
       "      <td>2006</td>\n",
       "      <td>Professional_Profile</td>\n",
       "      <td>Unemployed</td>\n",
       "      <td>Male</td>\n",
       "      <td>60+</td>\n",
       "      <td>1</td>\n",
       "    </tr>\n",
       "    <tr>\n",
       "      <th>234632</th>\n",
       "      <td>West Bengal</td>\n",
       "      <td>2007</td>\n",
       "      <td>Professional_Profile</td>\n",
       "      <td>Others (Please Specify)</td>\n",
       "      <td>Male</td>\n",
       "      <td>30-44</td>\n",
       "      <td>373</td>\n",
       "    </tr>\n",
       "    <tr>\n",
       "      <th>59428</th>\n",
       "      <td>Daman &amp; Diu</td>\n",
       "      <td>2010</td>\n",
       "      <td>Means_adopted</td>\n",
       "      <td>By Hanging</td>\n",
       "      <td>Male</td>\n",
       "      <td>45-59</td>\n",
       "      <td>1</td>\n",
       "    </tr>\n",
       "    <tr>\n",
       "      <th>175210</th>\n",
       "      <td>Odisha</td>\n",
       "      <td>2012</td>\n",
       "      <td>Causes</td>\n",
       "      <td>Dowry Dispute</td>\n",
       "      <td>Female</td>\n",
       "      <td>30-44</td>\n",
       "      <td>27</td>\n",
       "    </tr>\n",
       "    <tr>\n",
       "      <th>207649</th>\n",
       "      <td>Tamil Nadu</td>\n",
       "      <td>2009</td>\n",
       "      <td>Means_adopted</td>\n",
       "      <td>By Over Alcoholism</td>\n",
       "      <td>Male</td>\n",
       "      <td>60+</td>\n",
       "      <td>11</td>\n",
       "    </tr>\n",
       "    <tr>\n",
       "      <th>190572</th>\n",
       "      <td>Rajasthan</td>\n",
       "      <td>2003</td>\n",
       "      <td>Means_adopted</td>\n",
       "      <td>By Fire-Arms</td>\n",
       "      <td>Female</td>\n",
       "      <td>0-14</td>\n",
       "      <td>1</td>\n",
       "    </tr>\n",
       "    <tr>\n",
       "      <th>36342</th>\n",
       "      <td>Chandigarh</td>\n",
       "      <td>2005</td>\n",
       "      <td>Means_adopted</td>\n",
       "      <td>By Consuming Other Poison</td>\n",
       "      <td>Female</td>\n",
       "      <td>15-29</td>\n",
       "      <td>2</td>\n",
       "    </tr>\n",
       "    <tr>\n",
       "      <th>51964</th>\n",
       "      <td>D &amp; N Haveli</td>\n",
       "      <td>2009</td>\n",
       "      <td>Causes</td>\n",
       "      <td>Other Causes (Please Specity)</td>\n",
       "      <td>Male</td>\n",
       "      <td>45-59</td>\n",
       "      <td>4</td>\n",
       "    </tr>\n",
       "    <tr>\n",
       "      <th>227546</th>\n",
       "      <td>Uttarakhand</td>\n",
       "      <td>2007</td>\n",
       "      <td>Causes</td>\n",
       "      <td>Causes Not known</td>\n",
       "      <td>Male</td>\n",
       "      <td>45-59</td>\n",
       "      <td>6</td>\n",
       "    </tr>\n",
       "  </tbody>\n",
       "</table>\n",
       "</div>"
      ],
      "text/plain": [
       "                  State  Year             Type_code  \\\n",
       "95083   Jammu & Kashmir  2001  Professional_Profile   \n",
       "192537        Rajasthan  2006  Professional_Profile   \n",
       "234632      West Bengal  2007  Professional_Profile   \n",
       "59428       Daman & Diu  2010         Means_adopted   \n",
       "175210           Odisha  2012                Causes   \n",
       "207649       Tamil Nadu  2009         Means_adopted   \n",
       "190572        Rajasthan  2003         Means_adopted   \n",
       "36342        Chandigarh  2005         Means_adopted   \n",
       "51964      D & N Haveli  2009                Causes   \n",
       "227546      Uttarakhand  2007                Causes   \n",
       "\n",
       "                                 Type  Gender Age_group  Total  \n",
       "95083    Farming/Agriculture Activity  Female     30-44      1  \n",
       "192537                     Unemployed    Male       60+      1  \n",
       "234632        Others (Please Specify)    Male     30-44    373  \n",
       "59428                      By Hanging    Male     45-59      1  \n",
       "175210                  Dowry Dispute  Female     30-44     27  \n",
       "207649             By Over Alcoholism    Male       60+     11  \n",
       "190572                   By Fire-Arms  Female      0-14      1  \n",
       "36342       By Consuming Other Poison  Female     15-29      2  \n",
       "51964   Other Causes (Please Specity)    Male     45-59      4  \n",
       "227546               Causes Not known    Male     45-59      6  "
      ]
     },
     "execution_count": 20,
     "metadata": {},
     "output_type": "execute_result"
    }
   ],
   "source": [
    "df1.sample(10)"
   ]
  },
  {
   "cell_type": "markdown",
   "id": "9edb376c",
   "metadata": {},
   "source": [
    "#"
   ]
  },
  {
   "cell_type": "markdown",
   "id": "b0b632fd",
   "metadata": {},
   "source": [
    "# Univariate, Bivariate & Multivariate Analysis"
   ]
  },
  {
   "cell_type": "markdown",
   "id": "ec8a21a3",
   "metadata": {},
   "source": [
    "## 1) Male Female suicide ratio"
   ]
  },
  {
   "cell_type": "code",
   "execution_count": 21,
   "id": "1b845fb6",
   "metadata": {},
   "outputs": [
    {
     "data": {
      "text/plain": [
       "(109200, 7)"
      ]
     },
     "execution_count": 21,
     "metadata": {},
     "output_type": "execute_result"
    }
   ],
   "source": [
    "df1_causes= df[df['Type_code'] == 'Causes']\n",
    "df1_causes.shape"
   ]
  },
  {
   "cell_type": "code",
   "execution_count": 22,
   "id": "52c748f9",
   "metadata": {},
   "outputs": [
    {
     "data": {
      "text/html": [
       "<div>\n",
       "<style scoped>\n",
       "    .dataframe tbody tr th:only-of-type {\n",
       "        vertical-align: middle;\n",
       "    }\n",
       "\n",
       "    .dataframe tbody tr th {\n",
       "        vertical-align: top;\n",
       "    }\n",
       "\n",
       "    .dataframe thead th {\n",
       "        text-align: right;\n",
       "    }\n",
       "</style>\n",
       "<table border=\"1\" class=\"dataframe\">\n",
       "  <thead>\n",
       "    <tr style=\"text-align: right;\">\n",
       "      <th></th>\n",
       "      <th>State</th>\n",
       "      <th>Year</th>\n",
       "      <th>Type_code</th>\n",
       "      <th>Type</th>\n",
       "      <th>Gender</th>\n",
       "      <th>Age_group</th>\n",
       "      <th>Total</th>\n",
       "    </tr>\n",
       "  </thead>\n",
       "  <tbody>\n",
       "    <tr>\n",
       "      <th>112822</th>\n",
       "      <td>Karnataka</td>\n",
       "      <td>2009</td>\n",
       "      <td>Causes</td>\n",
       "      <td>Other Causes (Please Specity)</td>\n",
       "      <td>Male</td>\n",
       "      <td>30-44</td>\n",
       "      <td>636</td>\n",
       "    </tr>\n",
       "    <tr>\n",
       "      <th>1751</th>\n",
       "      <td>A &amp; N Islands</td>\n",
       "      <td>2004</td>\n",
       "      <td>Causes</td>\n",
       "      <td>Divorce</td>\n",
       "      <td>Female</td>\n",
       "      <td>15-29</td>\n",
       "      <td>0</td>\n",
       "    </tr>\n",
       "    <tr>\n",
       "      <th>234702</th>\n",
       "      <td>West Bengal</td>\n",
       "      <td>2008</td>\n",
       "      <td>Causes</td>\n",
       "      <td>Poverty</td>\n",
       "      <td>Female</td>\n",
       "      <td>0-14</td>\n",
       "      <td>0</td>\n",
       "    </tr>\n",
       "    <tr>\n",
       "      <th>212728</th>\n",
       "      <td>Tripura</td>\n",
       "      <td>2005</td>\n",
       "      <td>Causes</td>\n",
       "      <td>Physical Abuse (Rape/Incest Etc.)</td>\n",
       "      <td>Female</td>\n",
       "      <td>15-29</td>\n",
       "      <td>0</td>\n",
       "    </tr>\n",
       "    <tr>\n",
       "      <th>184637</th>\n",
       "      <td>Punjab</td>\n",
       "      <td>2005</td>\n",
       "      <td>Causes</td>\n",
       "      <td>Family Problems</td>\n",
       "      <td>Female</td>\n",
       "      <td>0-14</td>\n",
       "      <td>0</td>\n",
       "    </tr>\n",
       "    <tr>\n",
       "      <th>139350</th>\n",
       "      <td>Maharashtra</td>\n",
       "      <td>2008</td>\n",
       "      <td>Causes</td>\n",
       "      <td>Not having Children(Barrenness/Impotency</td>\n",
       "      <td>Male</td>\n",
       "      <td>45-59</td>\n",
       "      <td>6</td>\n",
       "    </tr>\n",
       "    <tr>\n",
       "      <th>49647</th>\n",
       "      <td>D &amp; N Haveli</td>\n",
       "      <td>2005</td>\n",
       "      <td>Causes</td>\n",
       "      <td>Poverty</td>\n",
       "      <td>Female</td>\n",
       "      <td>30-44</td>\n",
       "      <td>0</td>\n",
       "    </tr>\n",
       "    <tr>\n",
       "      <th>106485</th>\n",
       "      <td>Jharkhand</td>\n",
       "      <td>2010</td>\n",
       "      <td>Causes</td>\n",
       "      <td>Poverty</td>\n",
       "      <td>Male</td>\n",
       "      <td>0-14</td>\n",
       "      <td>0</td>\n",
       "    </tr>\n",
       "    <tr>\n",
       "      <th>108234</th>\n",
       "      <td>Karnataka</td>\n",
       "      <td>2001</td>\n",
       "      <td>Causes</td>\n",
       "      <td>Dowry Dispute</td>\n",
       "      <td>Male</td>\n",
       "      <td>15-29</td>\n",
       "      <td>1</td>\n",
       "    </tr>\n",
       "    <tr>\n",
       "      <th>182471</th>\n",
       "      <td>Punjab</td>\n",
       "      <td>2001</td>\n",
       "      <td>Causes</td>\n",
       "      <td>Other Causes (Please Specity)</td>\n",
       "      <td>Male</td>\n",
       "      <td>15-29</td>\n",
       "      <td>5</td>\n",
       "    </tr>\n",
       "  </tbody>\n",
       "</table>\n",
       "</div>"
      ],
      "text/plain": [
       "                State  Year Type_code  \\\n",
       "112822      Karnataka  2009    Causes   \n",
       "1751    A & N Islands  2004    Causes   \n",
       "234702    West Bengal  2008    Causes   \n",
       "212728        Tripura  2005    Causes   \n",
       "184637         Punjab  2005    Causes   \n",
       "139350    Maharashtra  2008    Causes   \n",
       "49647    D & N Haveli  2005    Causes   \n",
       "106485      Jharkhand  2010    Causes   \n",
       "108234      Karnataka  2001    Causes   \n",
       "182471         Punjab  2001    Causes   \n",
       "\n",
       "                                            Type  Gender Age_group  Total  \n",
       "112822             Other Causes (Please Specity)    Male     30-44    636  \n",
       "1751                                     Divorce  Female     15-29      0  \n",
       "234702                                   Poverty  Female      0-14      0  \n",
       "212728         Physical Abuse (Rape/Incest Etc.)  Female     15-29      0  \n",
       "184637                           Family Problems  Female      0-14      0  \n",
       "139350  Not having Children(Barrenness/Impotency    Male     45-59      6  \n",
       "49647                                    Poverty  Female     30-44      0  \n",
       "106485                                   Poverty    Male      0-14      0  \n",
       "108234                             Dowry Dispute    Male     15-29      1  \n",
       "182471             Other Causes (Please Specity)    Male     15-29      5  "
      ]
     },
     "execution_count": 22,
     "metadata": {},
     "output_type": "execute_result"
    }
   ],
   "source": [
    "df1_causes.sample(10)"
   ]
  },
  {
   "cell_type": "code",
   "execution_count": 23,
   "id": "374e221d",
   "metadata": {},
   "outputs": [
    {
     "name": "stdout",
     "output_type": "stream",
     "text": [
      "Total Deaths from 2001 to 2012: 1440974\n",
      "Male Deaths: 923238\n",
      "Female Deaths: 517736\n"
     ]
    }
   ],
   "source": [
    "Total_deaths = df1_causes['Total'].sum()\n",
    "female_deaths = df1_causes.groupby(['Gender'])['Total'].sum()[0]\n",
    "male_deaths =  df1_causes.groupby(['Gender'])['Total'].sum()[1]\n",
    "print('Total Deaths from 2001 to 2012:',Total_deaths)\n",
    "print('Male Deaths:', male_deaths)\n",
    "print('Female Deaths:',female_deaths)"
   ]
  },
  {
   "cell_type": "code",
   "execution_count": 24,
   "id": "860f13bb",
   "metadata": {
    "scrolled": false
   },
   "outputs": [
    {
     "data": {
      "text/plain": [
       "<function matplotlib.pyplot.show(close=None, block=None)>"
      ]
     },
     "execution_count": 24,
     "metadata": {},
     "output_type": "execute_result"
    },
    {
     "data": {
      "image/png": "[encoded data removed]",
      "text/plain": [
       "<Figure size 640x480 with 1 Axes>"
      ]
     },
     "metadata": {},
     "output_type": "display_data"
    }
   ],
   "source": [
    "df1_causes.groupby(['Gender'])['Total'].sum().plot(kind = 'bar')\n",
    "plt.title('Male-Female Suicide Ratio')\n",
    "plt.xlabel('Gender')\n",
    "plt.ylabel('Number of Deaths')\n",
    "plt.show\n"
   ]
  },
  {
   "cell_type": "markdown",
   "id": "64b662f7",
   "metadata": {},
   "source": [
    "<font size=\"+0.5\"  color=\"Green\">\n",
    "    \n",
    "- **OBSERVATION**\n",
    "- **There is a considerable difference in male and female suicides.** \n",
    "- **Male suicides are 40% higher than female suicides.**"
   ]
  },
  {
   "cell_type": "markdown",
   "id": "9bf6c39d",
   "metadata": {},
   "source": [
    "#"
   ]
  },
  {
   "cell_type": "markdown",
   "id": "943e30f8",
   "metadata": {},
   "source": [
    "## 2) Year Wise Deaths from 2001 to 2012"
   ]
  },
  {
   "cell_type": "code",
   "execution_count": 25,
   "id": "512cde12",
   "metadata": {},
   "outputs": [
    {
     "data": {
      "text/plain": [
       "Year\n",
       "2001    108506\n",
       "2002    110417\n",
       "2003    110851\n",
       "2004    113697\n",
       "2005    113914\n",
       "2006    118112\n",
       "2007    122637\n",
       "2008    125017\n",
       "2009    127151\n",
       "2010    134599\n",
       "2011    135585\n",
       "2012    120488\n",
       "Name: Total, dtype: int64"
      ]
     },
     "execution_count": 25,
     "metadata": {},
     "output_type": "execute_result"
    }
   ],
   "source": [
    "df1_causes.groupby(['Year'])['Total'].sum()"
   ]
  },
  {
   "cell_type": "code",
   "execution_count": 26,
   "id": "e154a3fb",
   "metadata": {},
   "outputs": [
    {
     "data": {
      "text/plain": [
       "<function matplotlib.pyplot.show(close=None, block=None)>"
      ]
     },
     "execution_count": 26,
     "metadata": {},
     "output_type": "execute_result"
    },
    {
     "data": {
      "image/png": "[encoded data removed]",
      "text/plain": [
       "<Figure size 640x480 with 1 Axes>"
      ]
     },
     "metadata": {},
     "output_type": "display_data"
    }
   ],
   "source": [
    "df1_causes.groupby(['Year'])['Total'].sum().plot(kind = 'line')\n",
    "plt.title('Year wise deaths')\n",
    "plt.xlabel('Year')\n",
    "plt.ylabel('Number of Deaths')\n",
    "plt.show"
   ]
  },
  {
   "cell_type": "markdown",
   "id": "df3bb48b",
   "metadata": {},
   "source": [
    "<font size=\"+0.5\"  color=\"Green\">\n",
    "    \n",
    "- **OBSERVATION**\n",
    "- **The graph shows consistant increase in the deaths over the years. Minimal but sudden drop in deaths in 2012.**"
   ]
  },
  {
   "cell_type": "markdown",
   "id": "62794d22",
   "metadata": {},
   "source": [
    "#"
   ]
  },
  {
   "cell_type": "markdown",
   "id": "13b90c9d",
   "metadata": {},
   "source": [
    "## 3) States with highest suicide rates"
   ]
  },
  {
   "cell_type": "code",
   "execution_count": 27,
   "id": "76789996",
   "metadata": {
    "scrolled": true
   },
   "outputs": [
    {
     "data": {
      "text/plain": [
       "State\n",
       "Maharashtra       180389\n",
       "Tamil Nadu        163813\n",
       "Andhra Pradesh    162820\n",
       "West Bengal       161030\n",
       "Karnataka         146965\n",
       "Kerala            107936\n",
       "Madhya Pradesh     90307\n",
       "Gujarat            66177\n",
       "Chhattisgarh       60495\n",
       "Odisha             53448\n",
       "Name: Total, dtype: int64"
      ]
     },
     "execution_count": 27,
     "metadata": {},
     "output_type": "execute_result"
    }
   ],
   "source": [
    "state_counts = df1_causes.groupby(['State'])['Total'].sum().sort_values(ascending=False).head(10)\n",
    "state_counts"
   ]
  },
  {
   "cell_type": "code",
   "execution_count": 28,
   "id": "f117b03f",
   "metadata": {
    "scrolled": false
   },
   "outputs": [
    {
     "data": {
      "image/png": "[encoded data removed]",
      "text/plain": [
       "<Figure size 700x700 with 1 Axes>"
      ]
     },
     "metadata": {},
     "output_type": "display_data"
    }
   ],
   "source": [
    "plt.figure(figsize=(7,7))\n",
    "state_counts.plot.pie(x='values', autopct='%1.1f%%', startangle=0, fontsize=14)\n",
    "plt.title('State wise deaths')\n",
    "plt.show()"
   ]
  },
  {
   "cell_type": "markdown",
   "id": "ce5807a4",
   "metadata": {},
   "source": [
    "<font size=\"+0.5\"  color=\"Green\">\n",
    "    \n",
    "- **OBSERVATION**\n",
    "- **Maharashtra > Tamil Nadu > Andra Pradesh > West Bengal > Karnataka are having highest suicide rates in India**"
   ]
  },
  {
   "cell_type": "markdown",
   "id": "0fc5950e",
   "metadata": {},
   "source": [
    "#"
   ]
  },
  {
   "cell_type": "markdown",
   "id": "472da7fa",
   "metadata": {},
   "source": [
    "## 4) Suicide rates and Age Group"
   ]
  },
  {
   "cell_type": "code",
   "execution_count": 29,
   "id": "6fdbc769",
   "metadata": {},
   "outputs": [
    {
     "data": {
      "text/plain": [
       "Age_group\n",
       "0-14      32685\n",
       "15-29    509776\n",
       "30-44    488713\n",
       "45-59    294333\n",
       "60+      115467\n",
       "Name: Total, dtype: int64"
      ]
     },
     "execution_count": 29,
     "metadata": {},
     "output_type": "execute_result"
    }
   ],
   "source": [
    "Age_suicide = df1_causes.groupby(['Age_group'])['Total'].sum()\n",
    "Age_suicide"
   ]
  },
  {
   "cell_type": "code",
   "execution_count": 30,
   "id": "d41096f5",
   "metadata": {
    "scrolled": false
   },
   "outputs": [
    {
     "data": {
      "image/png": "[encoded data removed]",
      "text/plain": [
       "<Figure size 640x480 with 1 Axes>"
      ]
     },
     "metadata": {},
     "output_type": "display_data"
    }
   ],
   "source": [
    "Age_suicide.plot(kind = 'barh')\n",
    "plt.show()"
   ]
  },
  {
   "cell_type": "markdown",
   "id": "e884da00",
   "metadata": {},
   "source": [
    "<font size=\"+0.5\"  color=\"Green\">\n",
    "    \n",
    "- **OBSERVATION**\n",
    "- **Younger generation ranging from 15 to 29 years of age are commiting more suicides than other age group**\n",
    "- **Age group from 30 to 44 also the 2nd highest category in terms of suicides in India**\n",
    "- **This is a threat to India's Demographic Dividend.**"
   ]
  },
  {
   "cell_type": "markdown",
   "id": "6360feb9",
   "metadata": {},
   "source": [
    "#"
   ]
  },
  {
   "cell_type": "code",
   "execution_count": 31,
   "id": "0814df50",
   "metadata": {
    "scrolled": true
   },
   "outputs": [
    {
     "data": {
      "text/html": [
       "<div>\n",
       "<style scoped>\n",
       "    .dataframe tbody tr th:only-of-type {\n",
       "        vertical-align: middle;\n",
       "    }\n",
       "\n",
       "    .dataframe tbody tr th {\n",
       "        vertical-align: top;\n",
       "    }\n",
       "\n",
       "    .dataframe thead th {\n",
       "        text-align: right;\n",
       "    }\n",
       "</style>\n",
       "<table border=\"1\" class=\"dataframe\">\n",
       "  <thead>\n",
       "    <tr style=\"text-align: right;\">\n",
       "      <th></th>\n",
       "      <th>State</th>\n",
       "      <th>Year</th>\n",
       "      <th>Type_code</th>\n",
       "      <th>Type</th>\n",
       "      <th>Gender</th>\n",
       "      <th>Age_group</th>\n",
       "      <th>Total</th>\n",
       "    </tr>\n",
       "  </thead>\n",
       "  <tbody>\n",
       "    <tr>\n",
       "      <th>100793</th>\n",
       "      <td>Jammu &amp; Kashmir</td>\n",
       "      <td>2011</td>\n",
       "      <td>Social_Status</td>\n",
       "      <td>Seperated</td>\n",
       "      <td>Male</td>\n",
       "      <td>0-100+</td>\n",
       "      <td>10</td>\n",
       "    </tr>\n",
       "    <tr>\n",
       "      <th>140188</th>\n",
       "      <td>Maharashtra</td>\n",
       "      <td>2009</td>\n",
       "      <td>Professional_Profile</td>\n",
       "      <td>Service (Government)</td>\n",
       "      <td>Female</td>\n",
       "      <td>15-29</td>\n",
       "      <td>8</td>\n",
       "    </tr>\n",
       "    <tr>\n",
       "      <th>9931</th>\n",
       "      <td>Andhra Pradesh</td>\n",
       "      <td>2006</td>\n",
       "      <td>Means_adopted</td>\n",
       "      <td>By coming under running vehicles/trains</td>\n",
       "      <td>Male</td>\n",
       "      <td>45-59</td>\n",
       "      <td>136</td>\n",
       "    </tr>\n",
       "    <tr>\n",
       "      <th>135298</th>\n",
       "      <td>Maharashtra</td>\n",
       "      <td>2001</td>\n",
       "      <td>Causes</td>\n",
       "      <td>Cancer</td>\n",
       "      <td>Female</td>\n",
       "      <td>30-44</td>\n",
       "      <td>11</td>\n",
       "    </tr>\n",
       "    <tr>\n",
       "      <th>172758</th>\n",
       "      <td>Odisha</td>\n",
       "      <td>2007</td>\n",
       "      <td>Professional_Profile</td>\n",
       "      <td>Professional Activity</td>\n",
       "      <td>Male</td>\n",
       "      <td>30-44</td>\n",
       "      <td>29</td>\n",
       "    </tr>\n",
       "    <tr>\n",
       "      <th>40651</th>\n",
       "      <td>Chhattisgarh</td>\n",
       "      <td>2001</td>\n",
       "      <td>Causes</td>\n",
       "      <td>Cancellation/Non-Settlement of Marriage</td>\n",
       "      <td>Male</td>\n",
       "      <td>30-44</td>\n",
       "      <td>2</td>\n",
       "    </tr>\n",
       "    <tr>\n",
       "      <th>14156</th>\n",
       "      <td>Arunachal Pradesh</td>\n",
       "      <td>2002</td>\n",
       "      <td>Causes</td>\n",
       "      <td>Failure in Examination</td>\n",
       "      <td>Male</td>\n",
       "      <td>15-29</td>\n",
       "      <td>1</td>\n",
       "    </tr>\n",
       "    <tr>\n",
       "      <th>105551</th>\n",
       "      <td>Jharkhand</td>\n",
       "      <td>2008</td>\n",
       "      <td>Causes</td>\n",
       "      <td>Paralysis</td>\n",
       "      <td>Male</td>\n",
       "      <td>60+</td>\n",
       "      <td>1</td>\n",
       "    </tr>\n",
       "    <tr>\n",
       "      <th>30209</th>\n",
       "      <td>Bihar</td>\n",
       "      <td>2006</td>\n",
       "      <td>Means_adopted</td>\n",
       "      <td>By Drowning</td>\n",
       "      <td>Female</td>\n",
       "      <td>45-59</td>\n",
       "      <td>8</td>\n",
       "    </tr>\n",
       "    <tr>\n",
       "      <th>185913</th>\n",
       "      <td>Punjab</td>\n",
       "      <td>2007</td>\n",
       "      <td>Causes</td>\n",
       "      <td>Poverty</td>\n",
       "      <td>Male</td>\n",
       "      <td>30-44</td>\n",
       "      <td>6</td>\n",
       "    </tr>\n",
       "  </tbody>\n",
       "</table>\n",
       "</div>"
      ],
      "text/plain": [
       "                    State  Year             Type_code  \\\n",
       "100793    Jammu & Kashmir  2011         Social_Status   \n",
       "140188        Maharashtra  2009  Professional_Profile   \n",
       "9931       Andhra Pradesh  2006         Means_adopted   \n",
       "135298        Maharashtra  2001                Causes   \n",
       "172758             Odisha  2007  Professional_Profile   \n",
       "40651        Chhattisgarh  2001                Causes   \n",
       "14156   Arunachal Pradesh  2002                Causes   \n",
       "105551          Jharkhand  2008                Causes   \n",
       "30209               Bihar  2006         Means_adopted   \n",
       "185913             Punjab  2007                Causes   \n",
       "\n",
       "                                           Type  Gender Age_group  Total  \n",
       "100793                                Seperated    Male    0-100+     10  \n",
       "140188                     Service (Government)  Female     15-29      8  \n",
       "9931    By coming under running vehicles/trains    Male     45-59    136  \n",
       "135298                                   Cancer  Female     30-44     11  \n",
       "172758                    Professional Activity    Male     30-44     29  \n",
       "40651   Cancellation/Non-Settlement of Marriage    Male     30-44      2  \n",
       "14156                    Failure in Examination    Male     15-29      1  \n",
       "105551                                Paralysis    Male       60+      1  \n",
       "30209                               By Drowning  Female     45-59      8  \n",
       "185913                                  Poverty    Male     30-44      6  "
      ]
     },
     "execution_count": 31,
     "metadata": {},
     "output_type": "execute_result"
    }
   ],
   "source": [
    "df1.sample(10)"
   ]
  },
  {
   "cell_type": "markdown",
   "id": "b8fac6dc",
   "metadata": {},
   "source": [
    "#"
   ]
  },
  {
   "cell_type": "markdown",
   "id": "519c40de",
   "metadata": {},
   "source": [
    "## 5) Analysing means adopted to commit suicide"
   ]
  },
  {
   "cell_type": "code",
   "execution_count": 32,
   "id": "dfd74d59",
   "metadata": {},
   "outputs": [
    {
     "data": {
      "text/plain": [
       "Causes                  39531\n",
       "Means_adopted           29337\n",
       "Professional_Profile    23291\n",
       "Education_Status         5602\n",
       "Social_Status            3349\n",
       "Name: Type_code, dtype: int64"
      ]
     },
     "execution_count": 32,
     "metadata": {},
     "output_type": "execute_result"
    }
   ],
   "source": [
    "df1['Type_code'].value_counts()"
   ]
  },
  {
   "cell_type": "code",
   "execution_count": 33,
   "id": "20476578",
   "metadata": {},
   "outputs": [
    {
     "data": {
      "text/html": [
       "<div>\n",
       "<style scoped>\n",
       "    .dataframe tbody tr th:only-of-type {\n",
       "        vertical-align: middle;\n",
       "    }\n",
       "\n",
       "    .dataframe tbody tr th {\n",
       "        vertical-align: top;\n",
       "    }\n",
       "\n",
       "    .dataframe thead th {\n",
       "        text-align: right;\n",
       "    }\n",
       "</style>\n",
       "<table border=\"1\" class=\"dataframe\">\n",
       "  <thead>\n",
       "    <tr style=\"text-align: right;\">\n",
       "      <th></th>\n",
       "      <th>State</th>\n",
       "      <th>Year</th>\n",
       "      <th>Type_code</th>\n",
       "      <th>Type</th>\n",
       "      <th>Gender</th>\n",
       "      <th>Age_group</th>\n",
       "      <th>Total</th>\n",
       "    </tr>\n",
       "  </thead>\n",
       "  <tbody>\n",
       "    <tr>\n",
       "      <th>277</th>\n",
       "      <td>A &amp; N Islands</td>\n",
       "      <td>2001</td>\n",
       "      <td>Means_adopted</td>\n",
       "      <td>By Hanging</td>\n",
       "      <td>Female</td>\n",
       "      <td>0-14</td>\n",
       "      <td>2</td>\n",
       "    </tr>\n",
       "    <tr>\n",
       "      <th>307</th>\n",
       "      <td>A &amp; N Islands</td>\n",
       "      <td>2001</td>\n",
       "      <td>Means_adopted</td>\n",
       "      <td>By Hanging</td>\n",
       "      <td>Male</td>\n",
       "      <td>0-14</td>\n",
       "      <td>2</td>\n",
       "    </tr>\n",
       "    <tr>\n",
       "      <th>312</th>\n",
       "      <td>A &amp; N Islands</td>\n",
       "      <td>2001</td>\n",
       "      <td>Means_adopted</td>\n",
       "      <td>By Fire/Self Immolation</td>\n",
       "      <td>Female</td>\n",
       "      <td>15-29</td>\n",
       "      <td>2</td>\n",
       "    </tr>\n",
       "    <tr>\n",
       "      <th>315</th>\n",
       "      <td>A &amp; N Islands</td>\n",
       "      <td>2001</td>\n",
       "      <td>Means_adopted</td>\n",
       "      <td>By Consuming Other Poison</td>\n",
       "      <td>Female</td>\n",
       "      <td>15-29</td>\n",
       "      <td>9</td>\n",
       "    </tr>\n",
       "    <tr>\n",
       "      <th>316</th>\n",
       "      <td>A &amp; N Islands</td>\n",
       "      <td>2001</td>\n",
       "      <td>Means_adopted</td>\n",
       "      <td>By Hanging</td>\n",
       "      <td>Female</td>\n",
       "      <td>15-29</td>\n",
       "      <td>20</td>\n",
       "    </tr>\n",
       "    <tr>\n",
       "      <th>...</th>\n",
       "      <td>...</td>\n",
       "      <td>...</td>\n",
       "      <td>...</td>\n",
       "      <td>...</td>\n",
       "      <td>...</td>\n",
       "      <td>...</td>\n",
       "      <td>...</td>\n",
       "    </tr>\n",
       "    <tr>\n",
       "      <th>237393</th>\n",
       "      <td>West Bengal</td>\n",
       "      <td>2012</td>\n",
       "      <td>Means_adopted</td>\n",
       "      <td>By Jumping off Moving Vehicles/Trains</td>\n",
       "      <td>Male</td>\n",
       "      <td>60+</td>\n",
       "      <td>7</td>\n",
       "    </tr>\n",
       "    <tr>\n",
       "      <th>237394</th>\n",
       "      <td>West Bengal</td>\n",
       "      <td>2012</td>\n",
       "      <td>Means_adopted</td>\n",
       "      <td>By Consuming Insecticides</td>\n",
       "      <td>Male</td>\n",
       "      <td>60+</td>\n",
       "      <td>53</td>\n",
       "    </tr>\n",
       "    <tr>\n",
       "      <th>237395</th>\n",
       "      <td>West Bengal</td>\n",
       "      <td>2012</td>\n",
       "      <td>Means_adopted</td>\n",
       "      <td>By Other means (please specify)</td>\n",
       "      <td>Male</td>\n",
       "      <td>60+</td>\n",
       "      <td>241</td>\n",
       "    </tr>\n",
       "    <tr>\n",
       "      <th>237396</th>\n",
       "      <td>West Bengal</td>\n",
       "      <td>2012</td>\n",
       "      <td>Means_adopted</td>\n",
       "      <td>By Consuming Other Poison</td>\n",
       "      <td>Male</td>\n",
       "      <td>60+</td>\n",
       "      <td>99</td>\n",
       "    </tr>\n",
       "    <tr>\n",
       "      <th>237397</th>\n",
       "      <td>West Bengal</td>\n",
       "      <td>2012</td>\n",
       "      <td>Means_adopted</td>\n",
       "      <td>By Fire/Self Immolation</td>\n",
       "      <td>Male</td>\n",
       "      <td>60+</td>\n",
       "      <td>21</td>\n",
       "    </tr>\n",
       "  </tbody>\n",
       "</table>\n",
       "<p>29337 rows × 7 columns</p>\n",
       "</div>"
      ],
      "text/plain": [
       "                State  Year      Type_code  \\\n",
       "277     A & N Islands  2001  Means_adopted   \n",
       "307     A & N Islands  2001  Means_adopted   \n",
       "312     A & N Islands  2001  Means_adopted   \n",
       "315     A & N Islands  2001  Means_adopted   \n",
       "316     A & N Islands  2001  Means_adopted   \n",
       "...               ...   ...            ...   \n",
       "237393    West Bengal  2012  Means_adopted   \n",
       "237394    West Bengal  2012  Means_adopted   \n",
       "237395    West Bengal  2012  Means_adopted   \n",
       "237396    West Bengal  2012  Means_adopted   \n",
       "237397    West Bengal  2012  Means_adopted   \n",
       "\n",
       "                                         Type  Gender Age_group  Total  \n",
       "277                                By Hanging  Female      0-14      2  \n",
       "307                                By Hanging    Male      0-14      2  \n",
       "312                   By Fire/Self Immolation  Female     15-29      2  \n",
       "315                 By Consuming Other Poison  Female     15-29      9  \n",
       "316                                By Hanging  Female     15-29     20  \n",
       "...                                       ...     ...       ...    ...  \n",
       "237393  By Jumping off Moving Vehicles/Trains    Male       60+      7  \n",
       "237394              By Consuming Insecticides    Male       60+     53  \n",
       "237395        By Other means (please specify)    Male       60+    241  \n",
       "237396              By Consuming Other Poison    Male       60+     99  \n",
       "237397                By Fire/Self Immolation    Male       60+     21  \n",
       "\n",
       "[29337 rows x 7 columns]"
      ]
     },
     "execution_count": 33,
     "metadata": {},
     "output_type": "execute_result"
    }
   ],
   "source": [
    "df1_means_adopted = df1[df1['Type_code'] == 'Means_adopted']\n",
    "df1_means_adopted"
   ]
  },
  {
   "cell_type": "code",
   "execution_count": 34,
   "id": "b980af1b",
   "metadata": {},
   "outputs": [
    {
     "data": {
      "image/png": "[encoded data removed]",
      "text/plain": [
       "<Figure size 1000x600 with 1 Axes>"
      ]
     },
     "metadata": {},
     "output_type": "display_data"
    }
   ],
   "source": [
    "# Top 7 methods/means adopted by people to commit suicide sagregated by Gender\n",
    "\n",
    "top_7_methods = df1_means_adopted['Type'].value_counts().nlargest(7).index\n",
    "df_top_7 = df1_means_adopted[df1_means_adopted['Type'].isin(top_7_methods)]\n",
    "data_top_7 = df_top_7.groupby(['Type', 'Gender'])['Total'].sum()\n",
    "data_plot_top_7 = data_top_7.unstack()\n",
    "\n",
    "data_plot_top_7.plot(kind='barh', stacked = True, figsize=(10, 6))\n",
    "plt.title('Top 7 Suicide Methods by Gender')\n",
    "plt.xlabel('Count')\n",
    "plt.ylabel('Method')\n",
    "plt.legend(title='Gender')\n",
    "plt.show()\n"
   ]
  },
  {
   "cell_type": "markdown",
   "id": "9df9cc89",
   "metadata": {},
   "source": [
    "<font size=\"+0.5\"  color=\"Green\">\n",
    "    \n",
    "- **OBSERVATION**\n",
    "- **Among other methods Hanging and consuming poison/other substances are highest as per graph**\n",
    "- **Male suicides are relatively high in all categorical methods except women casualties are more than male by fire/self immolation method**"
   ]
  },
  {
   "cell_type": "markdown",
   "id": "2f7a8d3b",
   "metadata": {},
   "source": [
    "#"
   ]
  },
  {
   "cell_type": "markdown",
   "id": "b38ec140",
   "metadata": {},
   "source": [
    "## 6) Top 5 suicide methods and Age relationship"
   ]
  },
  {
   "cell_type": "code",
   "execution_count": 35,
   "id": "6b38d8b2",
   "metadata": {},
   "outputs": [
    {
     "data": {
      "text/plain": [
       "Type                        Age_group\n",
       "By Consuming Insecticides   0-14          4980\n",
       "                            15-29        99949\n",
       "                            30-44        92554\n",
       "                            45-59        56368\n",
       "                            60+          21650\n",
       "                                         ...  \n",
       "By touching electric wires  0-14           420\n",
       "                            15-29         3707\n",
       "                            30-44         3779\n",
       "                            45-59         2220\n",
       "                            60+            690\n",
       "Name: Total, Length: 85, dtype: int64"
      ]
     },
     "execution_count": 35,
     "metadata": {},
     "output_type": "execute_result"
    }
   ],
   "source": [
    "age_method = df1_means_adopted.groupby(['Type','Age_group'])['Total'].sum()\n",
    "age_method"
   ]
  },
  {
   "cell_type": "code",
   "execution_count": 36,
   "id": "c623194e",
   "metadata": {},
   "outputs": [
    {
     "data": {
      "text/html": [
       "<div>\n",
       "<style scoped>\n",
       "    .dataframe tbody tr th:only-of-type {\n",
       "        vertical-align: middle;\n",
       "    }\n",
       "\n",
       "    .dataframe tbody tr th {\n",
       "        vertical-align: top;\n",
       "    }\n",
       "\n",
       "    .dataframe thead th {\n",
       "        text-align: right;\n",
       "    }\n",
       "</style>\n",
       "<table border=\"1\" class=\"dataframe\">\n",
       "  <thead>\n",
       "    <tr style=\"text-align: right;\">\n",
       "      <th>Age_group</th>\n",
       "      <th>0-14</th>\n",
       "      <th>15-29</th>\n",
       "      <th>30-44</th>\n",
       "      <th>45-59</th>\n",
       "      <th>60+</th>\n",
       "    </tr>\n",
       "    <tr>\n",
       "      <th>Type</th>\n",
       "      <th></th>\n",
       "      <th></th>\n",
       "      <th></th>\n",
       "      <th></th>\n",
       "      <th></th>\n",
       "    </tr>\n",
       "  </thead>\n",
       "  <tbody>\n",
       "    <tr>\n",
       "      <th>By Consuming Insecticides</th>\n",
       "      <td>4980</td>\n",
       "      <td>99949</td>\n",
       "      <td>92554</td>\n",
       "      <td>56368</td>\n",
       "      <td>21650</td>\n",
       "    </tr>\n",
       "    <tr>\n",
       "      <th>By Consuming Other Poison</th>\n",
       "      <td>4330</td>\n",
       "      <td>80860</td>\n",
       "      <td>78361</td>\n",
       "      <td>49517</td>\n",
       "      <td>18110</td>\n",
       "    </tr>\n",
       "    <tr>\n",
       "      <th>By Drowning</th>\n",
       "      <td>4825</td>\n",
       "      <td>32457</td>\n",
       "      <td>31318</td>\n",
       "      <td>18327</td>\n",
       "      <td>9784</td>\n",
       "    </tr>\n",
       "    <tr>\n",
       "      <th>By Fire-Arms</th>\n",
       "      <td>178</td>\n",
       "      <td>2355</td>\n",
       "      <td>2261</td>\n",
       "      <td>1149</td>\n",
       "      <td>351</td>\n",
       "    </tr>\n",
       "    <tr>\n",
       "      <th>By Fire/Self Immolation</th>\n",
       "      <td>2506</td>\n",
       "      <td>54902</td>\n",
       "      <td>43458</td>\n",
       "      <td>19436</td>\n",
       "      <td>7704</td>\n",
       "    </tr>\n",
       "    <tr>\n",
       "      <th>By Hanging</th>\n",
       "      <td>7292</td>\n",
       "      <td>169622</td>\n",
       "      <td>159188</td>\n",
       "      <td>92455</td>\n",
       "      <td>32398</td>\n",
       "    </tr>\n",
       "    <tr>\n",
       "      <th>By Jumping from (Building)</th>\n",
       "      <td>243</td>\n",
       "      <td>2459</td>\n",
       "      <td>2951</td>\n",
       "      <td>1584</td>\n",
       "      <td>634</td>\n",
       "    </tr>\n",
       "    <tr>\n",
       "      <th>By Jumping from (Other sites)</th>\n",
       "      <td>298</td>\n",
       "      <td>2659</td>\n",
       "      <td>2927</td>\n",
       "      <td>1592</td>\n",
       "      <td>651</td>\n",
       "    </tr>\n",
       "    <tr>\n",
       "      <th>By Jumping off Moving Vehicles/Trains</th>\n",
       "      <td>164</td>\n",
       "      <td>2627</td>\n",
       "      <td>3056</td>\n",
       "      <td>1614</td>\n",
       "      <td>655</td>\n",
       "    </tr>\n",
       "    <tr>\n",
       "      <th>By Machine</th>\n",
       "      <td>32</td>\n",
       "      <td>594</td>\n",
       "      <td>619</td>\n",
       "      <td>358</td>\n",
       "      <td>58</td>\n",
       "    </tr>\n",
       "    <tr>\n",
       "      <th>By Other means</th>\n",
       "      <td>609</td>\n",
       "      <td>2654</td>\n",
       "      <td>3208</td>\n",
       "      <td>1920</td>\n",
       "      <td>847</td>\n",
       "    </tr>\n",
       "    <tr>\n",
       "      <th>By Other means (please specify)</th>\n",
       "      <td>6418</td>\n",
       "      <td>38306</td>\n",
       "      <td>42892</td>\n",
       "      <td>32247</td>\n",
       "      <td>15269</td>\n",
       "    </tr>\n",
       "    <tr>\n",
       "      <th>By Over Alcoholism</th>\n",
       "      <td>58</td>\n",
       "      <td>2992</td>\n",
       "      <td>6414</td>\n",
       "      <td>4928</td>\n",
       "      <td>1581</td>\n",
       "    </tr>\n",
       "    <tr>\n",
       "      <th>By Overdose of sleeping pills</th>\n",
       "      <td>141</td>\n",
       "      <td>2848</td>\n",
       "      <td>3134</td>\n",
       "      <td>2383</td>\n",
       "      <td>1454</td>\n",
       "    </tr>\n",
       "    <tr>\n",
       "      <th>By Self Infliction of injury</th>\n",
       "      <td>84</td>\n",
       "      <td>1763</td>\n",
       "      <td>1757</td>\n",
       "      <td>996</td>\n",
       "      <td>493</td>\n",
       "    </tr>\n",
       "    <tr>\n",
       "      <th>By coming under running vehicles/trains</th>\n",
       "      <td>531</td>\n",
       "      <td>13864</td>\n",
       "      <td>16381</td>\n",
       "      <td>10334</td>\n",
       "      <td>4189</td>\n",
       "    </tr>\n",
       "    <tr>\n",
       "      <th>By touching electric wires</th>\n",
       "      <td>420</td>\n",
       "      <td>3707</td>\n",
       "      <td>3779</td>\n",
       "      <td>2220</td>\n",
       "      <td>690</td>\n",
       "    </tr>\n",
       "  </tbody>\n",
       "</table>\n",
       "</div>"
      ],
      "text/plain": [
       "Age_group                                0-14   15-29   30-44  45-59    60+\n",
       "Type                                                                       \n",
       "By Consuming Insecticides                4980   99949   92554  56368  21650\n",
       "By Consuming Other Poison                4330   80860   78361  49517  18110\n",
       "By Drowning                              4825   32457   31318  18327   9784\n",
       "By Fire-Arms                              178    2355    2261   1149    351\n",
       "By Fire/Self Immolation                  2506   54902   43458  19436   7704\n",
       "By Hanging                               7292  169622  159188  92455  32398\n",
       "By Jumping from (Building)                243    2459    2951   1584    634\n",
       "By Jumping from (Other sites)             298    2659    2927   1592    651\n",
       "By Jumping off Moving Vehicles/Trains     164    2627    3056   1614    655\n",
       "By Machine                                 32     594     619    358     58\n",
       "By Other means                            609    2654    3208   1920    847\n",
       "By Other means (please specify)          6418   38306   42892  32247  15269\n",
       "By Over Alcoholism                         58    2992    6414   4928   1581\n",
       "By Overdose of sleeping pills             141    2848    3134   2383   1454\n",
       "By Self Infliction of injury               84    1763    1757    996    493\n",
       "By coming under running vehicles/trains   531   13864   16381  10334   4189\n",
       "By touching electric wires                420    3707    3779   2220    690"
      ]
     },
     "execution_count": 36,
     "metadata": {},
     "output_type": "execute_result"
    }
   ],
   "source": [
    "data_plot = age_method.unstack()\n",
    "data_plot"
   ]
  },
  {
   "cell_type": "code",
   "execution_count": 37,
   "id": "96bc3b9b",
   "metadata": {
    "scrolled": false
   },
   "outputs": [
    {
     "data": {
      "image/png": "[encoded data removed]",
      "text/plain": [
       "<Figure size 1200x800 with 1 Axes>"
      ]
     },
     "metadata": {},
     "output_type": "display_data"
    }
   ],
   "source": [
    "# Selecting the top 5 suicide methods to determine Age relationship\n",
    "top_5_methods = df1_means_adopted['Type'].value_counts().nlargest(5).index\n",
    "df_top_5 = df1_means_adopted[df1_means_adopted['Type'].isin(top_5_methods)]\n",
    "age_method_top_5 = df_top_5.groupby(['Type', 'Age_group'])['Total'].sum()\n",
    "age_method_top_5 = age_method_top_5.reset_index()\n",
    "\n",
    "plt.figure(figsize=(12, 8))\n",
    "sns.barplot(data=age_method_top_5, x='Age_group', y='Total', hue='Type')\n",
    "plt.title('Top 5 Suicide Methods by Age Group')\n",
    "plt.xlabel('Age Group')\n",
    "plt.ylabel('Count')\n",
    "plt.xticks(rotation=45)\n",
    "plt.legend(title='Method', bbox_to_anchor=(1.05, 1), loc='upper left')\n",
    "plt.show()\n"
   ]
  },
  {
   "cell_type": "markdown",
   "id": "7aad4174",
   "metadata": {},
   "source": [
    "<font size=\"+0.5\"  color=\"Green\">\n",
    "    \n",
    "- **OBSERVATION**\n",
    "- **Hanging and consumption of poison casualties are high in all the age groups**"
   ]
  },
  {
   "cell_type": "markdown",
   "id": "3a3d4a82",
   "metadata": {},
   "source": [
    "#"
   ]
  },
  {
   "cell_type": "markdown",
   "id": "69a9737a",
   "metadata": {},
   "source": [
    "## 7) Education Type and Gender Relation"
   ]
  },
  {
   "cell_type": "code",
   "execution_count": 38,
   "id": "776b94fa",
   "metadata": {},
   "outputs": [],
   "source": [
    "df1_education_status = df1[df1['Type_code'] == 'Education_Status']"
   ]
  },
  {
   "cell_type": "code",
   "execution_count": 39,
   "id": "5e2388c8",
   "metadata": {},
   "outputs": [
    {
     "data": {
      "text/plain": [
       "Middle                                      811\n",
       "Primary                                     803\n",
       "Matriculate/Secondary                       803\n",
       "No Education                                773\n",
       "Hr. Secondary/Intermediate/Pre-Universit    733\n",
       "Graduate                                    643\n",
       "Diploma                                     529\n",
       "Post Graduate and Above                     507\n",
       "Name: Type, dtype: int64"
      ]
     },
     "execution_count": 39,
     "metadata": {},
     "output_type": "execute_result"
    }
   ],
   "source": [
    "df1_education_status['Type'].value_counts()"
   ]
  },
  {
   "cell_type": "code",
   "execution_count": 40,
   "id": "4ec811cd",
   "metadata": {},
   "outputs": [],
   "source": [
    "education_type_gender_relation = df1_education_status.groupby(['Type','Gender'])['Total'].sum().unstack()"
   ]
  },
  {
   "cell_type": "code",
   "execution_count": 41,
   "id": "686e528b",
   "metadata": {},
   "outputs": [
    {
     "data": {
      "text/plain": [
       "<Figure size 1200x800 with 0 Axes>"
      ]
     },
     "metadata": {},
     "output_type": "display_data"
    },
    {
     "data": {
      "image/png": "[encoded data removed]",
      "text/plain": [
       "<Figure size 640x480 with 1 Axes>"
      ]
     },
     "metadata": {},
     "output_type": "display_data"
    }
   ],
   "source": [
    "plt.figure(figsize=(12, 8))\n",
    "education_type_gender_relation.plot(kind='barh', stacked=False)\n",
    "plt.title('Education Type and Gender Relation')\n",
    "plt.xlabel('Total casualties')\n",
    "plt.ylabel('Education Type')\n",
    "plt.legend(title='Gender')\n",
    "plt.show()"
   ]
  },
  {
   "cell_type": "markdown",
   "id": "910c145f",
   "metadata": {},
   "source": [
    "<font size=\"+0.5\"  color=\"Green\">\n",
    "    \n",
    "- **OBSERVATION**\n",
    "- **Among other education categories No education, Primary, Middle school educators are highest as per graph**\n",
    "- **The Graph shows that more the education a person aquires less chances that he/she commits suicides**"
   ]
  },
  {
   "cell_type": "markdown",
   "id": "bcdcf1dd",
   "metadata": {},
   "source": [
    "#"
   ]
  },
  {
   "cell_type": "markdown",
   "id": "58db646c",
   "metadata": {},
   "source": [
    "## 8) Suicides based on Professional_Profile "
   ]
  },
  {
   "cell_type": "code",
   "execution_count": 44,
   "id": "44ef8d9b",
   "metadata": {},
   "outputs": [
    {
     "data": {
      "text/plain": [
       "Others (Please Specify)              5509\n",
       "Unemployed                           2424\n",
       "Farming/Agriculture Activity         2310\n",
       "Service (Private)                    2230\n",
       "Student                              1854\n",
       "Self-employed (Business activity)    1793\n",
       "Service (Government)                 1771\n",
       "House Wife                           1543\n",
       "Professional Activity                1513\n",
       "Public Sector Undertaking            1506\n",
       "Retired Person                        838\n",
       "Name: Type, dtype: int64"
      ]
     },
     "execution_count": 44,
     "metadata": {},
     "output_type": "execute_result"
    }
   ],
   "source": [
    "df1_Professional_Profile = df1[df1['Type_code'] == 'Professional_Profile']\n",
    "df1_Professional_Profile['Type'].value_counts()"
   ]
  },
  {
   "cell_type": "code",
   "execution_count": 59,
   "id": "e6234cf6",
   "metadata": {},
   "outputs": [],
   "source": [
    "Professional_Profile_gender_relation = df1_Professional_Profile.groupby(['Type'])['Total'].sum()"
   ]
  },
  {
   "cell_type": "code",
   "execution_count": 61,
   "id": "710efa28",
   "metadata": {},
   "outputs": [
    {
     "data": {
      "image/png": "[encoded data removed]",
      "text/plain": [
       "<Figure size 640x480 with 1 Axes>"
      ]
     },
     "metadata": {},
     "output_type": "display_data"
    }
   ],
   "source": [
    "df_professional_profile = Professional_Profile_gender_relation.reset_index()\n",
    "sns.barplot(data=df_professional_profile, x='Total', y='Type', orient='h')\n",
    "plt.title('Distribution of Professional Profiles')\n",
    "plt.xlabel('Total')\n",
    "plt.ylabel('Professional Profile')\n",
    "plt.show()"
   ]
  },
  {
   "cell_type": "markdown",
   "id": "0d880e64",
   "metadata": {},
   "source": [
    "<font size=\"+0.5\"  color=\"Green\">\n",
    "    \n",
    "- **OBSERVATION**\n",
    "- **House Wife and Farmers categories having most casualties among other professional profiles**"
   ]
  },
  {
   "cell_type": "markdown",
   "id": "4307809d",
   "metadata": {},
   "source": [
    "#"
   ]
  },
  {
   "cell_type": "code",
   "execution_count": null,
   "id": "961ec363",
   "metadata": {},
   "outputs": [],
   "source": []
  },
  {
   "cell_type": "code",
   "execution_count": null,
   "id": "9e81a9b3",
   "metadata": {},
   "outputs": [],
   "source": []
  },
  {
   "cell_type": "code",
   "execution_count": null,
   "id": "a85b0227",
   "metadata": {},
   "outputs": [],
   "source": []
  },
  {
   "cell_type": "code",
   "execution_count": null,
   "id": "737c7de4",
   "metadata": {},
   "outputs": [],
   "source": []
  },
  {
   "cell_type": "code",
   "execution_count": null,
   "id": "ce5b0531",
   "metadata": {},
   "outputs": [],
   "source": []
  },
  {
   "cell_type": "code",
   "execution_count": null,
   "id": "29b70782",
   "metadata": {},
   "outputs": [],
   "source": []
  },
  {
   "cell_type": "code",
   "execution_count": null,
   "id": "1d5c8e1c",
   "metadata": {},
   "outputs": [],
   "source": []
  },
  {
   "cell_type": "code",
   "execution_count": null,
   "id": "5e0da538",
   "metadata": {},
   "outputs": [],
   "source": []
  },
  {
   "cell_type": "code",
   "execution_count": null,
   "id": "5c22608f",
   "metadata": {},
   "outputs": [],
   "source": []
  },
  {
   "cell_type": "code",
   "execution_count": null,
   "id": "3e772beb",
   "metadata": {},
   "outputs": [],
   "source": []
  },
  {
   "cell_type": "code",
   "execution_count": null,
   "id": "f14861f2",
   "metadata": {},
   "outputs": [],
   "source": []
  }
 ],
 "metadata": {
  "kernelspec": {
   "display_name": "Python 3 (ipykernel)",
   "language": "python",
   "name": "python3"
  },
  "language_info": {
   "codemirror_mode": {
    "name": "ipython",
    "version": 3
   },
   "file_extension": ".py",
   "mimetype": "text/x-python",
   "name": "python",
   "nbconvert_exporter": "python",
   "pygments_lexer": "ipython3",
   "version": "3.11.4"
  }
 },
 "nbformat": 4,
 "nbformat_minor": 5
}
